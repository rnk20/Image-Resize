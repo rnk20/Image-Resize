{
 "cells": [
  {
   "cell_type": "code",
   "execution_count": 21,
   "metadata": {},
   "outputs": [],
   "source": [
    "from PIL import Image\n",
    "import os\n",
    "cwd = os.getcwd()\n",
    "path = \"/home/shresth/tust/Jackets\"\n",
    "path2 = \"/home/shresth/tust/Jeans\"\n",
    "dirs = os.listdir(\"/home/shresth/tust/Jackets\")\n",
    "classes = ['Jackets', 'Jeans', 'Skirts', 'Sunglasses', 'Tops']\n",
    "def resize():\n",
    "    for item in dirs:\n",
    "        if os.path.isfile(path + \"/\" + item):\n",
    "            im = Image.open(path + \"/\" + item)\n",
    "            f, e = os.path.splitext(path2 + \"/\" + item)\n",
    "            imResize = im.resize((200,200), Image.ANTIALIAS)\n",
    "            imResize.save(f + \"_resized.jpg\", 'JPEG', quality=90)"
   ]
  },
  {
   "cell_type": "code",
   "execution_count": 22,
   "metadata": {},
   "outputs": [],
   "source": [
    "resize()"
   ]
  },
  {
   "cell_type": "code",
   "execution_count": 16,
   "metadata": {},
   "outputs": [],
   "source": [
    "classes = ['Jackets', 'Jeans', 'Skirts', 'Sunglasses', 'Tops']\n",
    "cwd = os.getcwd()\n",
    "list_files = []\n",
    "for i in classes:\n",
    "    pat = cwd + '/Farfetch/' + i\n",
    "    list_files = list_files + os.listdir(pat)\n"
   ]
  },
  {
   "cell_type": "code",
   "execution_count": 22,
   "metadata": {},
   "outputs": [],
   "source": [
    "\n",
    "\n",
    "path2 = \"Far/\"\n",
    "def resizeee():\n",
    "    for i in classes:\n",
    "        path = \"Farfetch/\"\n",
    "        dirs = os.listdir(path + i + \"/\")\n",
    "        for item in dirs:\n",
    "            if os.path.isfile(path + i + \"/\" + item):\n",
    "                im = Image.open(path + i + \"/\" + item)\n",
    "                f, e = os.path.splitext(path2 + item)\n",
    "                imResize = im.resize((200,200), Image.ANTIALIAS)\n",
    "                imResize.save(f + ' resized.jpg', 'JPEG', quality=90)"
   ]
  },
  {
   "cell_type": "code",
   "execution_count": 24,
   "metadata": {},
   "outputs": [],
   "source": [
    "resizeee()"
   ]
  },
  {
   "cell_type": "code",
   "execution_count": null,
   "metadata": {},
   "outputs": [],
   "source": []
  }
 ],
 "metadata": {
  "kernelspec": {
   "display_name": "Python 3",
   "language": "python",
   "name": "python3"
  },
  "language_info": {
   "codemirror_mode": {
    "name": "ipython",
    "version": 3
   },
   "file_extension": ".py",
   "mimetype": "text/x-python",
   "name": "python",
   "nbconvert_exporter": "python",
   "pygments_lexer": "ipython3",
   "version": "3.6.5"
  }
 },
 "nbformat": 4,
 "nbformat_minor": 2
}
